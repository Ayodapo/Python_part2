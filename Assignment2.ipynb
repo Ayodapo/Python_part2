{
 "cells": [
  {
   "cell_type": "code",
   "execution_count": 1,
   "metadata": {},
   "outputs": [],
   "source": [
    "# 1. Assign multiple variables\n",
    "my_name = \"Ayodele\"\n",
    "age = 36\n",
    "is_complexion_black = True\n",
    "height = 5.6\n",
    "\n"
   ]
  },
  {
   "cell_type": "code",
   "execution_count": 3,
   "metadata": {},
   "outputs": [
    {
     "name": "stdout",
     "output_type": "stream",
     "text": [
      "True or True =  True\n",
      "True or False =  True\n",
      "False or True =  True\n",
      "False or False =  False\n"
     ]
    }
   ],
   "source": [
    "#2. Using boolean comparison show the results of your truth table\n",
    "p = True\n",
    "q = True\n",
    "\n",
    "#and truth table\n",
    "print('True or True = ', p or q)\n",
    "print('True or False = ', p or (not q))\n",
    "print('False or True = ', (not p) or q)\n",
    "print('False or False = ', (not p) or (not q))"
   ]
  },
  {
   "cell_type": "code",
   "execution_count": 4,
   "metadata": {},
   "outputs": [
    {
     "name": "stdout",
     "output_type": "stream",
     "text": [
      "AYODELE\n",
      "ayodele\n",
      "True\n",
      "True\n",
      "Ayodele\n",
      "False\n",
      "False\n",
      " Ayodele,\n",
      "ayodele\n",
      "Ayodele\n",
      "2\n",
      "['Ayodele']\n",
      "Ayodele\n",
      "3\n"
     ]
    }
   ],
   "source": [
    "#10 methods for manipulating strings\n",
    "print(my_name.upper())\n",
    "print(my_name.lower())\n",
    "print(my_name.isalnum())\n",
    "print(my_name.isalpha())\n",
    "print(my_name.format({},my_name))\n",
    "print(my_name.endswith('A'))\n",
    "print(my_name.startswith('Y'))\n",
    "print(my_name.join(' ,'))\n",
    "print(my_name.casefold())\n",
    "print(my_name.capitalize())\n",
    "print(my_name.count('e'))\n",
    "print(my_name.split(','))\n",
    "print(my_name.strip(''))\n",
    "print(my_name.find('d'))"
   ]
  },
  {
   "cell_type": "code",
   "execution_count": 31,
   "metadata": {},
   "outputs": [
    {
     "name": "stdout",
     "output_type": "stream",
     "text": [
      "Area of the circle is: 1662.118\n",
      "Area of a rectangle is: 35\n"
     ]
    }
   ],
   "source": [
    "#4. write an expression to calculate \n",
    "#a. Area of a circle(pi*r^2)\n",
    "#b. Area of a rectangle(length * width)\n",
    "\n",
    "pi = 3.142\n",
    "r = 23\n",
    "length = 5\n",
    "width = 7\n",
    "\n",
    "area_of_a_circle = pi * r**2\n",
    "area_of_a_rectangle  = length * width\n",
    "\n",
    "print(\"Area of the circle is: {}\". format(area_of_a_circle))\n",
    "print('Area of a rectangle is: {}'.format(area_of_a_rectangle))"
   ]
  },
  {
   "cell_type": "code",
   "execution_count": 13,
   "metadata": {},
   "outputs": [
    {
     "data": {
      "text/plain": [
       "['Pepper', 'Butter', 'Bread', 'Beverages', 'Yam']"
      ]
     },
     "execution_count": 13,
     "metadata": {},
     "output_type": "execute_result"
    }
   ],
   "source": [
    "# 5. Create your own list and do the following\n",
    "# 5a remove,sort, pop, reverse,and apply comparison operators on your list\n",
    "shopping_list = ['Bread', 'Ewedu','Beverages','Pepper','Rice','Butter']\n",
    "shopping_list.remove('Ewedu')\n",
    "shopping_list.sort()\n",
    "shopping_list.pop(4)\n",
    "shopping_list.reverse()\n",
    "shopping_list.append('Yam')\n",
    "shopping_list"
   ]
  },
  {
   "cell_type": "code",
   "execution_count": 100,
   "metadata": {},
   "outputs": [
    {
     "name": "stdout",
     "output_type": "stream",
     "text": [
      "My best breakfast is:  Bread  and  Butter\n",
      "True\n",
      "False\n",
      "False\n"
     ]
    }
   ],
   "source": [
    "# comparison operators\n",
    "print('My best breakfast is: ',shopping_list[2],' and ',shopping_list[1])\n",
    "print(shopping_list[1].lower()>shopping_list[2].lower())\n",
    "print(shopping_list[1].lower()<shopping_list[2].lower())\n",
    "print(shopping_list[1].lower() != shopping_list[1].lower())"
   ]
  },
  {
   "cell_type": "code",
   "execution_count": 14,
   "metadata": {},
   "outputs": [],
   "source": [
    "# 5b. Delete the shopping list completely\n",
    "del(shopping_list)"
   ]
  },
  {
   "cell_type": "code",
   "execution_count": 16,
   "metadata": {},
   "outputs": [
    {
     "data": {
      "text/plain": [
       "('mango',\n",
       " 'grape',\n",
       " 'guava',\n",
       " 'lemon',\n",
       " 'orange',\n",
       " 'tomato',\n",
       " 'cabbage',\n",
       " 'lettuce',\n",
       " 'shoko',\n",
       " 'efo-green')"
      ]
     },
     "execution_count": 16,
     "metadata": {},
     "output_type": "execute_result"
    }
   ],
   "source": [
    "# 6. Create a tuple conataining fruits and vegetables\n",
    "#a. join the tuples in a new tuple\n",
    "your_fruits=('mango','grape','guava','lemon','orange')\n",
    "vegetables = ('tomato','cabbage','lettuce','shoko','efo-green')\n",
    "fruits_vegs = your_fruits+vegetables\n",
    "fruits_vegs"
   ]
  },
  {
   "cell_type": "code",
   "execution_count": 90,
   "metadata": {},
   "outputs": [
    {
     "data": {
      "text/plain": [
       "('mango', 'grape', 'guava')"
      ]
     },
     "execution_count": 90,
     "metadata": {},
     "output_type": "execute_result"
    }
   ],
   "source": [
    "# 6b. slice out 3 items from the new list\n",
    "fruits_vegs[:3]"
   ]
  },
  {
   "cell_type": "code",
   "execution_count": 91,
   "metadata": {},
   "outputs": [
    {
     "name": "stdout",
     "output_type": "stream",
     "text": [
      "False\n",
      "True\n"
     ]
    }
   ],
   "source": [
    "# 6c. check if an item exist in another\n",
    "nordic_countries = ('Denmark','Finland','Iceland','Norway','Sweden')\n",
    "# 6c(i) check if 'Estonia' is a nordic country\n",
    "# 6c(ii) check if 'Iceland' is a nordic country\n",
    "print('Estonia' in nordic_countries)\n",
    "print('Iceland' in nordic_countries)\n",
    "\n"
   ]
  },
  {
   "cell_type": "code",
   "execution_count": null,
   "metadata": {},
   "outputs": [],
   "source": []
  }
 ],
 "metadata": {
  "kernelspec": {
   "display_name": "Python 3.10.2 64-bit",
   "language": "python",
   "name": "python3"
  },
  "language_info": {
   "codemirror_mode": {
    "name": "ipython",
    "version": 3
   },
   "file_extension": ".py",
   "mimetype": "text/x-python",
   "name": "python",
   "nbconvert_exporter": "python",
   "pygments_lexer": "ipython3",
   "version": "3.10.2"
  },
  "orig_nbformat": 4,
  "vscode": {
   "interpreter": {
    "hash": "369f2c481f4da34e4445cda3fffd2e751bd1c4d706f27375911949ba6bb62e1c"
   }
  }
 },
 "nbformat": 4,
 "nbformat_minor": 2
}
