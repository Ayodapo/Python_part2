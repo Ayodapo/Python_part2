{
 "cells": [
  {
   "cell_type": "markdown",
   "metadata": {},
   "source": [
    "## Dictionaries"
   ]
  },
  {
   "cell_type": "code",
   "execution_count": 1,
   "metadata": {},
   "outputs": [],
   "source": [
    "#empty dictionary\n",
    "dict = {}"
   ]
  },
  {
   "cell_type": "code",
   "execution_count": 97,
   "metadata": {},
   "outputs": [
    {
     "data": {
      "text/plain": [
       "{'matric_no': '160045', 'Name': 'Adeleke', 'Age': 40, 'height': 56.0}"
      ]
     },
     "execution_count": 97,
     "metadata": {},
     "output_type": "execute_result"
    }
   ],
   "source": [
    "dict={'matric_no':'160045','Name': 'Adeleke','Age':40,'height':56.0}\n",
    "dict"
   ]
  },
  {
   "cell_type": "code",
   "execution_count": 98,
   "metadata": {},
   "outputs": [
    {
     "data": {
      "text/plain": [
       "4"
      ]
     },
     "execution_count": 98,
     "metadata": {},
     "output_type": "execute_result"
    }
   ],
   "source": [
    "#length of dictionary\n",
    "len(dict)"
   ]
  },
  {
   "cell_type": "code",
   "execution_count": 99,
   "metadata": {},
   "outputs": [
    {
     "name": "stdout",
     "output_type": "stream",
     "text": [
      "40\n",
      "160045\n"
     ]
    }
   ],
   "source": [
    "#access the values in a dictionary\n",
    "print(dict['Age'])\n",
    "print(dict.get('matric_no'))"
   ]
  },
  {
   "cell_type": "code",
   "execution_count": 100,
   "metadata": {},
   "outputs": [
    {
     "data": {
      "text/plain": [
       "{'matric_no': '160045',\n",
       " 'Name': 'Adeleke',\n",
       " 'Age': 40,\n",
       " 'height': 56.0,\n",
       " 'mathematics': 90,\n",
       " 'School': 'University of Ibadan'}"
      ]
     },
     "execution_count": 100,
     "metadata": {},
     "output_type": "execute_result"
    }
   ],
   "source": [
    "#Adding items \n",
    "#Modifying items\n",
    "#Checking keys\n",
    "\n",
    "dict['mathematics'] =90\n",
    "#dict['mathematics'] =87\n",
    "\n",
    "\n",
    "#you can use update method to add key_value to your dictionary\n",
    "dict.update({'School':'University of Ibadan'})\n",
    "dict\n"
   ]
  },
  {
   "cell_type": "code",
   "execution_count": 10,
   "metadata": {},
   "outputs": [
    {
     "data": {
      "text/plain": [
       "dict_keys(['matric_no', 'Name', 'Age', 'height', 'mathematics'])"
      ]
     },
     "execution_count": 10,
     "metadata": {},
     "output_type": "execute_result"
    }
   ],
   "source": [
    "dict.keys()"
   ]
  },
  {
   "cell_type": "markdown",
   "metadata": {},
   "source": [
    "## Conditional"
   ]
  },
  {
   "cell_type": "code",
   "execution_count": 18,
   "metadata": {},
   "outputs": [
    {
     "name": "stdout",
     "output_type": "stream",
     "text": [
      "You are eligible to vote\n"
     ]
    }
   ],
   "source": [
    "#If statement\n",
    "\n",
    "\n",
    "# if (condition):\n",
    "#     pass\n",
    "age = 18\n",
    "if (age >= 18):\n",
    "    print('You are eligible to vote')\n",
    "else: \n",
    "    print('You are not eligible to vote')"
   ]
  },
  {
   "cell_type": "code",
   "execution_count": 19,
   "metadata": {},
   "outputs": [
    {
     "name": "stdout",
     "output_type": "stream",
     "text": [
      "You are not eligible\n"
     ]
    }
   ],
   "source": [
    "score = 60\n",
    "if (age >= 20):\n",
    "    if(score>=60):\n",
    "        print(\"You are eligible for the scholarship\")\n",
    "else:\n",
    "    print('You are not eligible for the scholarship')\n"
   ]
  },
  {
   "cell_type": "code",
   "execution_count": 21,
   "metadata": {},
   "outputs": [
    {
     "name": "stdout",
     "output_type": "stream",
     "text": [
      "You are eligible to vote\n"
     ]
    }
   ],
   "source": [
    "age = 19\n",
    "if (age > 18):\n",
    "    print('You are eligible to vote')\n",
    "elif (age < 18):\n",
    "    print('You are not eligible to vote') \n",
    "else: \n",
    "\n",
    "    print('Wait for some time and check back')"
   ]
  },
  {
   "cell_type": "code",
   "execution_count": 26,
   "metadata": {},
   "outputs": [
    {
     "name": "stdout",
     "output_type": "stream",
     "text": [
      "Yeah I am good!\n",
      "Take caution please!\n",
      "See a doctor\n"
     ]
    }
   ],
   "source": [
    "blood_pressure = 90\n",
    "temperature = 39\n",
    "if (blood_pressure < 100 ):\n",
    "    print(\"Yeah I am good!\")\n",
    "    if (temperature < 37):\n",
    "        print('You are perfect')\n",
    "    else:\n",
    "        print('Take caution please!')\n",
    "if (temperature > 37):\n",
    "    print(\"See a doctor\")\n",
    "else: \n",
    "     print(\"Take you\")\n"
   ]
  },
  {
   "cell_type": "code",
   "execution_count": 30,
   "metadata": {},
   "outputs": [
    {
     "name": "stdout",
     "output_type": "stream",
     "text": [
      "The rain will stop soon\n"
     ]
    }
   ],
   "source": [
    "#If statements with conditional and logical operators\n",
    "is_raining = True\n",
    "is_cloudy = True\n",
    "if (is_raining and (not is_cloudy)):\n",
    "    print('This rain will last longer')\n",
    "else:\n",
    "    print(\"The rain will stop soon\")"
   ]
  },
  {
   "cell_type": "code",
   "execution_count": 33,
   "metadata": {},
   "outputs": [],
   "source": [
    "#Using input() to get value from a user\n",
    "\n",
    "name = input('What is your name? ')\n",
    "age = int(input('What is your age?'))\n",
    "\n",
    "#print('Hi' +name+ ', you are ' + str(age)+ ' years old')"
   ]
  },
  {
   "cell_type": "markdown",
   "metadata": {},
   "source": [
    "## Loops"
   ]
  },
  {
   "cell_type": "code",
   "execution_count": 38,
   "metadata": {},
   "outputs": [
    {
     "name": "stdout",
     "output_type": "stream",
     "text": [
      "This is the 0th time\n",
      "This is the 1th time\n",
      "This is the 2th time\n",
      "This is the 3th time\n",
      "This is the 4th time\n"
     ]
    }
   ],
   "source": [
    "#While loops\n",
    "\n",
    "# while (condition):\n",
    "#     pass\n",
    "is_raining = True\n",
    "is_cloudy = True\n",
    "i = 0\n",
    "\n",
    "while (i < 5):\n",
    "    print('This is the {}th time'.format(i))\n",
    "    i +=1"
   ]
  },
  {
   "cell_type": "code",
   "execution_count": 40,
   "metadata": {},
   "outputs": [
    {
     "name": "stdout",
     "output_type": "stream",
     "text": [
      "I love mango\n",
      "I love orange\n"
     ]
    }
   ],
   "source": [
    "# Break and continue\n",
    "lst = ['mango','orange','guava','grape']\n",
    "i =0\n",
    "while (i<len(lst)):\n",
    "    print('I love {}'.format (lst[i]))\n",
    "    i +=1\n",
    "    if lst[i]=='guava':\n",
    "        break"
   ]
  },
  {
   "cell_type": "code",
   "execution_count": 93,
   "metadata": {},
   "outputs": [
    {
     "name": "stdout",
     "output_type": "stream",
     "text": [
      "I love mango\n",
      "I love orange\n",
      "I love grape\n"
     ]
    }
   ],
   "source": [
    "#continue\n",
    "lst = ['mango','orange','guava','grape']\n",
    "i =0\n",
    "while (i<len(lst)):\n",
    "    if lst[i]=='guava':\n",
    "        i +=1\n",
    "        continue\n",
    "        \n",
    "    \n",
    "    print('I love {}'.format (lst[i]))\n",
    "    i +=1\n",
    "    "
   ]
  },
  {
   "cell_type": "code",
   "execution_count": 53,
   "metadata": {},
   "outputs": [
    {
     "name": "stdout",
     "output_type": "stream",
     "text": [
      "range(0, 16)\n"
     ]
    }
   ],
   "source": [
    "#range\n",
    "print(range(16))\n"
   ]
  },
  {
   "cell_type": "code",
   "execution_count": 57,
   "metadata": {},
   "outputs": [
    {
     "name": "stdout",
     "output_type": "stream",
     "text": [
      "mango\n",
      "orange\n",
      "guava\n",
      "grape\n"
     ]
    }
   ],
   "source": [
    "# For loops\n",
    "lst = ['mango','orange','guava','grape']\n",
    "for list in (lst):\n",
    "    print(list)"
   ]
  },
  {
   "cell_type": "code",
   "execution_count": 88,
   "metadata": {},
   "outputs": [
    {
     "name": "stdout",
     "output_type": "stream",
     "text": [
      "1\n"
     ]
    }
   ],
   "source": [
    "for i in range(1,2):\n",
    "    print(i)"
   ]
  },
  {
   "cell_type": "code",
   "execution_count": 91,
   "metadata": {},
   "outputs": [
    {
     "name": "stdout",
     "output_type": "stream",
     "text": [
      "0 1\n",
      "0 1\n",
      "1 1\n",
      "1 2\n",
      "2 1\n",
      "2 3\n",
      "3 1\n",
      "3 4\n",
      "4 1\n",
      "4 5\n"
     ]
    }
   ],
   "source": [
    "#Nested for loops\n",
    "for i in (range(5)):\n",
    "    for j in (1,i+1):\n",
    "        print(i,j)\n",
    "\n"
   ]
  },
  {
   "cell_type": "code",
   "execution_count": 62,
   "metadata": {},
   "outputs": [
    {
     "name": "stdout",
     "output_type": "stream",
     "text": [
      "ayo\n",
      "tope\n",
      "titi\n",
      "I am done!\n"
     ]
    }
   ],
   "source": [
    "for name in (['ayo','tope','titi']):\n",
    "    print(name)\n",
    "else: \n",
    "    print('I am done!')\n"
   ]
  },
  {
   "cell_type": "markdown",
   "metadata": {},
   "source": [
    "If else statement\n",
    "Elif statement\n",
    "Nested conditions\n",
    "If statements with conditional and logical operators\n",
    "Using input() to get value from a user\n"
   ]
  },
  {
   "cell_type": "code",
   "execution_count": 79,
   "metadata": {},
   "outputs": [
    {
     "name": "stdout",
     "output_type": "stream",
     "text": [
      "I love Benz\n",
      "I love BMW\n",
      "I love Lexus\n",
      "I love Hyundia\n"
     ]
    }
   ],
   "source": [
    "#Iterating through a list\n",
    "\n",
    "cars= ['Benz','BMW','BigDaddy','Lexus','Hyundia']\n",
    "for car in cars:\n",
    "    \n",
    "    if car == 'BigDaddy':\n",
    "        continue\n",
    "    \n",
    "    print('I love {}'.format(car))\n",
    "        \n",
    "    \n",
    "\n",
    "\n",
    "\n",
    "  "
   ]
  },
  {
   "cell_type": "code",
   "execution_count": null,
   "metadata": {},
   "outputs": [],
   "source": []
  }
 ],
 "metadata": {
  "kernelspec": {
   "display_name": "Python 3.10.2 64-bit",
   "language": "python",
   "name": "python3"
  },
  "language_info": {
   "codemirror_mode": {
    "name": "ipython",
    "version": 3
   },
   "file_extension": ".py",
   "mimetype": "text/x-python",
   "name": "python",
   "nbconvert_exporter": "python",
   "pygments_lexer": "ipython3",
   "version": "3.10.2"
  },
  "orig_nbformat": 4,
  "vscode": {
   "interpreter": {
    "hash": "369f2c481f4da34e4445cda3fffd2e751bd1c4d706f27375911949ba6bb62e1c"
   }
  }
 },
 "nbformat": 4,
 "nbformat_minor": 2
}
